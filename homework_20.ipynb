{
 "cells": [
  {
   "cell_type": "markdown",
   "id": "d8dac05e",
   "metadata": {},
   "source": [
    "Завдання 1"
   ]
  },
  {
   "attachments": {},
   "cell_type": "markdown",
   "id": "24a61e73",
   "metadata": {},
   "source": [
    "\n",
    "|   year   |   rank   |        company        | revenue  |  profit  |\n",
    "|:---------|:---------|:----------------------|:---------|:---------|\n",
    "|   1955   |    229   | Norton                |  135.0   |   N.A.   |\n",
    "|   1955   |    291   | Schlitz Brewing       |  100.0   |   N.A.   |\n",
    "|   1955   |    295   | Pacific Vegetable Oil |   97.9   |   N.A.   |\n",
    "|   1955   |    297   | Liebmann Breweries    |   96.0   |   N.A.   |\n",
    "|   1955   |    353   | Minneapolis-Moline    |   77.4   |   N.A.   |"
   ]
  },
  {
   "cell_type": "markdown",
   "id": "d8495c5a",
   "metadata": {},
   "source": [
    "Завдання 2"
   ]
  },
  {
   "cell_type": "code",
   "execution_count": 6,
   "id": "fcbad649",
   "metadata": {},
   "outputs": [
    {
     "name": "stdout",
     "output_type": "stream",
     "text": [
      "Середній час виконання сортування бульбашками складає:  1.6689300537109374e-07\n",
      "81 ns ± 62 ns per loop (mean ± std. dev. of 7 runs, 5 loops each)\n",
      "68.3 ns ± 34.4 ns per loop (mean ± std. dev. of 7 runs, 5 loops each)\n"
     ]
    }
   ],
   "source": [
    "import random\n",
    "import time\n",
    "\n",
    "\n",
    "def bubble_sort(old_list):\n",
    "    is_sorted = False\n",
    "    temp = 0\n",
    "    iteration = 0\n",
    "    while not is_sorted:\n",
    "        is_sorted = True\n",
    "        for idx, number in enumerate(old_list):\n",
    "            if len(old_list) - 1 - iteration == idx:\n",
    "                continue\n",
    "            if old_list[idx] > old_list[idx + 1]:\n",
    "                is_sorted = False\n",
    "                old_list[idx], old_list[idx + 1] = old_list[idx + 1], old_list[idx]\n",
    "    return old_list\n",
    "\n",
    "\n",
    "bubble_sort([random.randint(0, 1000) for i in range(0, 5000)])\n",
    "\n",
    "\n",
    "def time_calculator(func, tries_count):\n",
    "    result = 0\n",
    "    for i in range(0, tries_count):\n",
    "        start = time.time()\n",
    "        i = func\n",
    "        end = time.time()\n",
    "        result += (end-start)\n",
    "    return result / tries_count\n",
    "\n",
    "\n",
    "f = time_calculator(bubble_sort, 10)\n",
    "\n",
    "print(f'Середній час виконання сортування бульбашками складає:  {f}')\n",
    "\n",
    "%timeit -n 5 time_calculator\n",
    "%timeit -n 5 bubble_sort\n"
   ]
  },
  {
   "cell_type": "code",
   "execution_count": null,
   "id": "ea1a2c3d",
   "metadata": {},
   "outputs": [],
   "source": []
  }
 ],
 "metadata": {
  "kernelspec": {
   "display_name": "Python 3 (ipykernel)",
   "language": "python",
   "name": "python3"
  },
  "language_info": {
   "codemirror_mode": {
    "name": "ipython",
    "version": 3
   },
   "file_extension": ".py",
   "mimetype": "text/x-python",
   "name": "python",
   "nbconvert_exporter": "python",
   "pygments_lexer": "ipython3",
   "version": "3.10.6"
  }
 },
 "nbformat": 4,
 "nbformat_minor": 5
}
